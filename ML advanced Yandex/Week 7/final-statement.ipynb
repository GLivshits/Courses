{
 "cells": [
  {
   "cell_type": "markdown",
   "metadata": {},
   "source": [
    "# Финальное задание"
   ]
  },
  {
   "cell_type": "code",
   "execution_count": 1,
   "metadata": {},
   "outputs": [],
   "source": [
    "import pandas as pd\n",
    "import numpy as np\n",
    "import math\n",
    "import time\n",
    "import datetime\n",
    "from matplotlib import pyplot as plt\n",
    "from sklearn import *"
   ]
  },
  {
   "cell_type": "code",
   "execution_count": 8,
   "metadata": {},
   "outputs": [
    {
     "name": "stdout",
     "output_type": "stream",
     "text": [
      "duration\n",
      "radiant_win\n",
      "tower_status_radiant\n",
      "tower_status_dire\n",
      "barracks_status_radiant\n",
      "barracks_status_dire\n"
     ]
    }
   ],
   "source": [
    "# считываем данные обучения и теста\n",
    "\n",
    "train = pd.read_csv('features.csv', index_col='match_id')\n",
    "test = pd.read_csv('features_test.csv', index_col='match_id')\n",
    "\n",
    "y = train['radiant_win']\n",
    "# дропаем колонки, которых нет в тестовой выборке\n",
    "\n",
    "for col in train.columns:\n",
    "    \n",
    "    if col not in test.columns:\n",
    "        \n",
    "        print(col)\n",
    "        train.drop(col, axis = 1, inplace = True)\n"
   ]
  },
  {
   "cell_type": "code",
   "execution_count": 9,
   "metadata": {},
   "outputs": [
    {
     "name": "stdout",
     "output_type": "stream",
     "text": [
      "first_blood_time\n",
      "first_blood_team\n",
      "first_blood_player1\n",
      "first_blood_player2\n",
      "radiant_bottle_time\n",
      "radiant_courier_time\n",
      "radiant_flying_courier_time\n",
      "radiant_first_ward_time\n",
      "dire_bottle_time\n",
      "dire_courier_time\n",
      "dire_flying_courier_time\n",
      "dire_first_ward_time\n"
     ]
    }
   ],
   "source": [
    "# выясняем, в каких колонках пропуски\n",
    "\n",
    "for i in range (0, train.shape[1]):\n",
    "    \n",
    "    if train.count()[i] != train.shape[0]:\n",
    "        \n",
    "        print(train.columns[i])"
   ]
  },
  {
   "cell_type": "code",
   "execution_count": 10,
   "metadata": {},
   "outputs": [],
   "source": [
    "train.fillna(0, inplace = True)\n",
    "test.fillna(0, inplace = True)\n",
    "X = train\n",
    "\n",
    "# а теперь дропну те колонки, которые считаю вообще тут не нужными (может чуток и не по заданию, зато это разумно)\n",
    "\n",
    "X.drop('start_time', axis = 1, inplace = True)"
   ]
  },
  {
   "cell_type": "code",
   "execution_count": 104,
   "metadata": {},
   "outputs": [
    {
     "name": "stdout",
     "output_type": "stream",
     "text": [
      "Trees number: 5. Time elapsed: 0:00:21.723460\n",
      "Trees number: 10. Time elapsed: 0:00:47.739514\n",
      "Trees number: 15. Time elapsed: 0:01:01.685964\n",
      "Trees number: 20. Time elapsed: 0:01:17.587340\n",
      "Trees number: 25. Time elapsed: 0:01:39.119805\n",
      "Trees number: 30. Time elapsed: 0:01:53.362561\n",
      "Trees number: 40. Time elapsed: 0:02:36.461325\n",
      "Trees number: 50. Time elapsed: 0:03:23.463129\n",
      "Trees number: 60. Time elapsed: 0:04:05.144552\n",
      "Trees number: 70. Time elapsed: 0:04:55.758453\n"
     ]
    }
   ],
   "source": [
    "# собственно, проходим заданные количества деревьев (trees), делаем cv и запоминаем скор\n",
    "trees = [5, 10, 15, 20, 25, 30, 40, 50, 60, 70]\n",
    "roc_auc_gb = []\n",
    "cv = model_selection.KFold(random_state = 1, shuffle = True, n_splits = 5)\n",
    "\n",
    "\n",
    "for n_trees in trees:\n",
    "    \n",
    "    gb = ensemble.GradientBoostingClassifier(n_estimators = n_trees, random_state = 1)\n",
    "    \n",
    "    start_time = datetime.datetime.now()\n",
    "    \n",
    "    k = model_selection.cross_val_score(estimator = gb, cv = cv, X = X, y = y, scoring = 'roc_auc')\n",
    "    \n",
    "    print('Trees number: {}. Time elapsed: {}'.format(n_trees, datetime.datetime.now() - start_time))\n",
    "    \n",
    "    roc_auc_gb.append(np.mean(k))"
   ]
  },
  {
   "cell_type": "code",
   "execution_count": 105,
   "metadata": {},
   "outputs": [
    {
     "data": {
      "text/plain": [
       "[<matplotlib.lines.Line2D at 0x1fd80a91408>]"
      ]
     },
     "execution_count": 105,
     "metadata": {},
     "output_type": "execute_result"
    },
    {
     "data": {
      "image/png": "[encoded data removed]",
      "text/plain": [
       "<Figure size 432x288 with 1 Axes>"
      ]
     },
     "metadata": {
      "needs_background": "light"
     },
     "output_type": "display_data"
    }
   ],
   "source": [
    "# смотрим как roc_auc зависит от количества деревьев\n",
    "\n",
    "plt.plot(trees, roc_auc_gb)"
   ]
  },
  {
   "cell_type": "markdown",
   "metadata": {},
   "source": [
    "# Отчет по 1 подходу\n",
    "\n",
    "## 1:\n",
    "\n",
    "Признаки:\n",
    "\n",
    "first_blood_time, first_blood_team, first_blood_player1, first_blood_player2, radiant_bottle_time, radiant_courier_time, radiant_flying_courier_time, radiant_first_ward_time, dire_bottle_time, dire_courier_time, dire_flying_courier_time, dire_first_ward_time.\n",
    "\n",
    "Почему именно они:\n",
    "\n",
    "Потому что фб за 5 минут могло и не быть (что реально при пассивной игре), потому что ботл никто не купил (что опять же вполне реально), либо сапорты в команде уроды (не купили ни вардов, ни куру).\n",
    "\n",
    "## 2:\n",
    "\n",
    "Целевая переменная - radiant_win в train датафрейме. Остальные колонки (которые про бараки) заглядывают в будущее и их надо дропать. То есть идет оценивание вероятности победы по показателям первых пяти минут.\n",
    "\n",
    "## 3:\n",
    "\n",
    "На 30 деревьях процесс шел примерно 2 минуты. Roc_auc при этом - примерно 0.69.\n",
    "\n",
    "## 4: \n",
    "\n",
    "Можно увеличивать количество деревьев и дальше, но если есть вычислительные мощности. Но нам и так сойдет. Можно распараллеливать процесс обучения с разным количеством деревьев (то есть с одним количеством - на 1 ядре, с другим - на другом, так как один процесс вычисляется строго последовательно)."
   ]
  },
  {
   "cell_type": "code",
   "execution_count": 11,
   "metadata": {},
   "outputs": [],
   "source": [
    "X = train\n",
    "# X.drop(['start_time'], axis = 1, inplace = True)\n",
    "sc = preprocessing.StandardScaler()\n",
    "X = sc.fit_transform(X)"
   ]
  },
  {
   "cell_type": "code",
   "execution_count": 125,
   "metadata": {},
   "outputs": [
    {
     "name": "stdout",
     "output_type": "stream",
     "text": [
      "Regularization coef: 1.0. Time elapsed: 0:00:03.454415\n",
      "Regularization coef: 2.0. Time elapsed: 0:00:03.514553\n",
      "Regularization coef: 3.0. Time elapsed: 0:00:03.580119\n",
      "Regularization coef: 4.0. Time elapsed: 0:00:03.369371\n",
      "Regularization coef: 5.0. Time elapsed: 0:00:03.852658\n",
      "Regularization coef: 6.0. Time elapsed: 0:00:03.460778\n",
      "Regularization coef: 7.0. Time elapsed: 0:00:03.679979\n",
      "Regularization coef: 8.0. Time elapsed: 0:00:03.458973\n",
      "Regularization coef: 9.0. Time elapsed: 0:00:03.389914\n"
     ]
    }
   ],
   "source": [
    "# пробуем разные константы регуляризации (без 0, там страх и ужас)\n",
    "Cs = np.arange(0.5, 10, 0.5)\n",
    "roc_auc_lr = []\n",
    "\n",
    "for C in Cs:\n",
    "    \n",
    "    lr = linear_model.LogisticRegression(C = C, random_state = 1)\n",
    "    \n",
    "    start_time = datetime.datetime.now()\n",
    "    \n",
    "    k = model_selection.cross_val_score(estimator = lr, cv = cv, X = X, y = y, scoring = 'roc_auc')\n",
    "    \n",
    "    if int(C) == C:\n",
    "        \n",
    "        print('Regularization coef: {}. Time elapsed: {}'.format(round(C, 2), datetime.datetime.now() - start_time))\n",
    "    \n",
    "    roc_auc_lr.append(np.mean(k))"
   ]
  },
  {
   "cell_type": "code",
   "execution_count": 126,
   "metadata": {},
   "outputs": [
    {
     "data": {
      "text/plain": [
       "[<matplotlib.lines.Line2D at 0x1fd80bfa488>]"
      ]
     },
     "execution_count": 126,
     "metadata": {},
     "output_type": "execute_result"
    },
    {
     "data": {
      "image/png": "[encoded data removed]",
      "text/plain": [
       "<Figure size 432x288 with 1 Axes>"
      ]
     },
     "metadata": {
      "needs_background": "light"
     },
     "output_type": "display_data"
    }
   ],
   "source": [
    "plt.plot(Cs, roc_auc_lr)"
   ]
  },
  {
   "cell_type": "code",
   "execution_count": 12,
   "metadata": {},
   "outputs": [],
   "source": [
    "# убираем все что связано с героями и тип лобби\n",
    "X = train.copy()\n",
    "\n",
    "for column in X.columns:\n",
    "    \n",
    "    if 'hero' in column:\n",
    "        \n",
    "        X.drop(column, axis = 1, inplace = True)\n",
    "\n",
    "X.drop('lobby_type', axis = 1, inplace = True)"
   ]
  },
  {
   "cell_type": "code",
   "execution_count": 130,
   "metadata": {},
   "outputs": [
    {
     "name": "stdout",
     "output_type": "stream",
     "text": [
      "Regularization coef: 1.0. Time elapsed: 0:00:02.688544\n",
      "Regularization coef: 2.0. Time elapsed: 0:00:02.691342\n",
      "Regularization coef: 3.0. Time elapsed: 0:00:03.436998\n",
      "Regularization coef: 4.0. Time elapsed: 0:00:03.012436\n",
      "Regularization coef: 5.0. Time elapsed: 0:00:03.414887\n",
      "Regularization coef: 6.0. Time elapsed: 0:00:03.247350\n",
      "Regularization coef: 7.0. Time elapsed: 0:00:03.577767\n",
      "Regularization coef: 8.0. Time elapsed: 0:00:03.509962\n",
      "Regularization coef: 9.0. Time elapsed: 0:00:03.457344\n"
     ]
    }
   ],
   "source": [
    "# учимся опять (вообще по-хорошему надо было зафигачить функцию, но да ладно)\n",
    "\n",
    "sc = preprocessing.StandardScaler()\n",
    "X = sc.fit_transform(X)\n",
    "Cs = np.arange(0.5, 10, 0.5)\n",
    "roc_auc_lr = []\n",
    "\n",
    "for C in Cs:\n",
    "    \n",
    "    lr = linear_model.LogisticRegression(C = C, random_state = 1)\n",
    "    \n",
    "    start_time = datetime.datetime.now()\n",
    "    \n",
    "    k = model_selection.cross_val_score(estimator = lr, cv = cv, X = X, y = y, scoring = 'roc_auc')\n",
    "    \n",
    "    if int(C) == C:\n",
    "        \n",
    "        print('Regularization coef: {}. Time elapsed: {}'.format(round(C, 2), datetime.datetime.now() - start_time))\n",
    "    \n",
    "    roc_auc_lr.append(np.mean(k))"
   ]
  },
  {
   "cell_type": "code",
   "execution_count": 131,
   "metadata": {},
   "outputs": [
    {
     "data": {
      "text/plain": [
       "[<matplotlib.lines.Line2D at 0x1fd80c65308>]"
      ]
     },
     "execution_count": 131,
     "metadata": {},
     "output_type": "execute_result"
    },
    {
     "data": {
      "image/png": "[encoded data removed]",
      "text/plain": [
       "<Figure size 432x288 with 1 Axes>"
      ]
     },
     "metadata": {
      "needs_background": "light"
     },
     "output_type": "display_data"
    }
   ],
   "source": [
    "plt.plot(Cs, roc_auc_lr) \n",
    "# ну ничего не изменилось почти"
   ]
  },
  {
   "cell_type": "code",
   "execution_count": 13,
   "metadata": {},
   "outputs": [],
   "source": [
    "# делаем Xs - массив, откуда убраны колонки типа hero и добавлен мешок слов\n",
    "\n",
    "X_pick = np.zeros((train.shape[0], 112))\n",
    "\n",
    "for i, match_id in enumerate(train.index):\n",
    "    \n",
    "    \n",
    "    for p in range(5):\n",
    "        \n",
    "        X_pick[i, train.loc[match_id, 'r%d_hero' % (p+1)]-1] = 1\n",
    "        X_pick[i, train.loc[match_id, 'd%d_hero' % (p+1)]-1] = -1\n",
    "        \n",
    "Xs = np.hstack((X, X_pick))"
   ]
  },
  {
   "cell_type": "code",
   "execution_count": 14,
   "metadata": {},
   "outputs": [
    {
     "name": "stdout",
     "output_type": "stream",
     "text": [
      "Regularization coef: 1.0. Time elapsed: 0:00:05.725673\n",
      "Regularization coef: 2.0. Time elapsed: 0:00:06.208383\n",
      "Regularization coef: 3.0. Time elapsed: 0:00:06.230448\n",
      "Regularization coef: 4.0. Time elapsed: 0:00:05.510252\n",
      "Regularization coef: 5.0. Time elapsed: 0:00:05.758587\n",
      "Regularization coef: 6.0. Time elapsed: 0:00:05.804465\n",
      "Regularization coef: 7.0. Time elapsed: 0:00:05.702734\n",
      "Regularization coef: 8.0. Time elapsed: 0:00:05.584052\n",
      "Regularization coef: 9.0. Time elapsed: 0:00:05.509254\n"
     ]
    }
   ],
   "source": [
    "# три раза один и тот же код почти - ПРОСТИТЕ\n",
    "Cs = np.arange(0.5, 10, 0.5)\n",
    "roc_auc_lr = []\n",
    "sc = preprocessing.StandardScaler()\n",
    "cv = model_selection.KFold(random_state = 1, shuffle = True, n_splits = 5)\n",
    "Xs = sc.fit_transform(Xs)\n",
    "\n",
    "for C in Cs:\n",
    "    \n",
    "    lr = linear_model.LogisticRegression(C = C, random_state = 1)\n",
    "    \n",
    "    start_time = datetime.datetime.now()\n",
    "    \n",
    "    k = model_selection.cross_val_score(estimator = lr, cv = cv, X = Xs, y = y, scoring = 'roc_auc')\n",
    "    \n",
    "    if int(C) == C:\n",
    "        \n",
    "        print('Regularization coef: {}. Time elapsed: {}'.format(round(C, 2), datetime.datetime.now() - start_time))\n",
    "    \n",
    "    roc_auc_lr.append(np.mean(k))"
   ]
  },
  {
   "cell_type": "code",
   "execution_count": 233,
   "metadata": {},
   "outputs": [
    {
     "data": {
      "text/plain": [
       "[<matplotlib.lines.Line2D at 0x1fd822baa48>]"
      ]
     },
     "execution_count": 233,
     "metadata": {},
     "output_type": "execute_result"
    },
    {
     "data": {
      "image/png": "[encoded data removed]",
      "text/plain": [
       "<Figure size 432x288 with 1 Axes>"
      ]
     },
     "metadata": {
      "needs_background": "light"
     },
     "output_type": "display_data"
    }
   ],
   "source": [
    "plt.plot(Cs, roc_auc_lr)\n",
    "# качество выросло на 0.04, что очень неплохо"
   ]
  },
  {
   "cell_type": "code",
   "execution_count": 17,
   "metadata": {},
   "outputs": [],
   "source": [
    "# так как последняя модель - лучшая, изменяем X_test (вводим мешок слов), обучаем старый Xs при C = 5 и делаем предсказание\n",
    "\n",
    "X_test = test.copy()\n",
    "\n",
    "for column in X_test.columns:\n",
    "    \n",
    "    if 'hero' in column:\n",
    "        \n",
    "        X_test.drop(column, axis = 1, inplace = True)\n",
    "\n",
    "X_test.drop('lobby_type', axis = 1, inplace = True)\n",
    "X_test.drop('start_time', axis = 1, inplace = True)\n",
    "\n",
    "X_pick_test = np.zeros((test.shape[0], 112))\n",
    "\n",
    "for i, match_id in enumerate(test.index):\n",
    "    \n",
    "    \n",
    "    for p in range(5):\n",
    "        \n",
    "        X_pick_test[i, test.loc[match_id, 'r%d_hero' % (p+1)]-1] = 1\n",
    "        X_pick_test[i, test.loc[match_id, 'd%d_hero' % (p+1)]-1] = -1\n",
    "        \n",
    "Xs_test = np.hstack((X_test, X_pick_test))\n",
    "sc = preprocessing.StandardScaler()\n",
    "Xs_test = sc.fit_transform(Xs_test)\n",
    "\n",
    "lr = linear_model.LogisticRegression(C = 5, random_state = 1)\n",
    "lr.fit(Xs, y)\n",
    "prediction = lr.predict_proba(Xs_test)[:, 1]"
   ]
  },
  {
   "cell_type": "code",
   "execution_count": 18,
   "metadata": {},
   "outputs": [
    {
     "data": {
      "text/plain": [
       "match_id\n",
       "6     0.836341\n",
       "7     0.779042\n",
       "10    0.201028\n",
       "13    0.867982\n",
       "16    0.259158\n",
       "Name: Radiant win prediction, dtype: float64"
      ]
     },
     "execution_count": 18,
     "metadata": {},
     "output_type": "execute_result"
    }
   ],
   "source": [
    "# а вот и результатики подъехали\n",
    "\n",
    "result = test.copy()\n",
    "result['Radiant win prediction'] = prediction\n",
    "result = result.loc[:, 'Radiant win prediction']\n",
    "result.head()"
   ]
  },
  {
   "cell_type": "code",
   "execution_count": 19,
   "metadata": {},
   "outputs": [
    {
     "name": "stdout",
     "output_type": "stream",
     "text": [
      "0.9966533437552726 0.008614588504864287\n"
     ]
    }
   ],
   "source": [
    "print(max(prediction), min(prediction))"
   ]
  },
  {
   "cell_type": "code",
   "execution_count": 21,
   "metadata": {},
   "outputs": [
    {
     "data": {
      "text/plain": [
       "(array([ 405., 1174., 1806., 2245., 2442., 2521., 2452., 2064., 1538.,\n",
       "         530.]),\n",
       " array([0.00861459, 0.10741846, 0.20622234, 0.30502622, 0.40383009,\n",
       "        0.50263397, 0.60143784, 0.70024172, 0.79904559, 0.89784947,\n",
       "        0.99665334]),\n",
       " <a list of 10 Patch objects>)"
      ]
     },
     "execution_count": 21,
     "metadata": {},
     "output_type": "execute_result"
    },
    {
     "data": {
      "image/png": "[encoded data removed]",
      "text/plain": [
       "<Figure size 432x288 with 1 Axes>"
      ]
     },
     "metadata": {
      "needs_background": "light"
     },
     "output_type": "display_data"
    }
   ],
   "source": [
    "plt.hist(prediction)"
   ]
  },
  {
   "cell_type": "markdown",
   "metadata": {},
   "source": [
    "# Отчет по 2 подходу\n",
    "\n",
    "## 1:\n",
    "\n",
    "Качество получилось примерно 0.716, что выше, чем у градиентного бустинга где-то на 0.02. Можно объяснить тем, что мы взяли слишком мало деревьев, либо что другие параметры бустинга не были оптимизированы. Третий вариант - регрессия работает лучше на вещественных, непрерывных признаках, чем деревья, которые аппроксимируют все это кусками.\n",
    "\n",
    "## 2:\n",
    "\n",
    "При удалении категориальных признаков качество почти не изменилось. Думаю проблема в том, что они изначально были плохо заданы: например, в пределах одной команды можно менять местами эти признаки - и ничего не поменяется. Плюс они в принципе были сделаны непрерывными, и глядя на данные, создавалось такое ощущение, что там просто рандомные числа от 1 до 113. И эти признаки кодируют по сути игроков, а не героев, и не отражают нормальным образом присутствия конкретного героя в данном матче.\n",
    "\n",
    "## 3: \n",
    "\n",
    "Существует 112 идентификаторов. При использование nunique выдает в каждой колонке 108, но стоит учесть, что если герой взят один игроком - он не может быть взят другим. Так что еще плюс 4.\n",
    "\n",
    "## 4:\n",
    "\n",
    "При добавлении мешка слов качество улучшилось примерно на 0.04. Связано это с тем, что мы закодировали не игроков каким-то непонятным образом, а героев, что более разумно. Есть герои с более высоким winrate, есть с более низким.\n",
    "\n",
    "## 5:\n",
    "\n",
    "Максимум получился 0.996, минимум - 0.008. Действительно, иногда уже после 5 минут понятно, к чему все идет."
   ]
  }
 ],
 "metadata": {
  "kernelspec": {
   "display_name": "Python 3",
   "language": "python",
   "name": "python3"
  },
  "language_info": {
   "codemirror_mode": {
    "name": "ipython",
    "version": 3
   },
   "file_extension": ".py",
   "mimetype": "text/x-python",
   "name": "python",
   "nbconvert_exporter": "python",
   "pygments_lexer": "ipython3",
   "version": "3.7.5"
  }
 },
 "nbformat": 4,
 "nbformat_minor": 1
}
