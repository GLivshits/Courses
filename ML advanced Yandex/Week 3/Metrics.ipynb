{
 "cells": [
  {
   "cell_type": "code",
   "execution_count": 1,
   "metadata": {},
   "outputs": [],
   "source": [
    "import numpy as np\n",
    "import pandas as pd\n",
    "from sklearn import *\n",
    "import math"
   ]
  },
  {
   "cell_type": "code",
   "execution_count": 4,
   "metadata": {},
   "outputs": [],
   "source": [
    "data_class = pd.read_csv('classification.csv', engine = 'python')"
   ]
  },
  {
   "cell_type": "code",
   "execution_count": 5,
   "metadata": {},
   "outputs": [
    {
     "data": {
      "text/html": [
       "<div>\n",
       "<style scoped>\n",
       "    .dataframe tbody tr th:only-of-type {\n",
       "        vertical-align: middle;\n",
       "    }\n",
       "\n",
       "    .dataframe tbody tr th {\n",
       "        vertical-align: top;\n",
       "    }\n",
       "\n",
       "    .dataframe thead th {\n",
       "        text-align: right;\n",
       "    }\n",
       "</style>\n",
       "<table border=\"1\" class=\"dataframe\">\n",
       "  <thead>\n",
       "    <tr style=\"text-align: right;\">\n",
       "      <th></th>\n",
       "      <th>true</th>\n",
       "      <th>pred</th>\n",
       "    </tr>\n",
       "  </thead>\n",
       "  <tbody>\n",
       "    <tr>\n",
       "      <th>0</th>\n",
       "      <td>1</td>\n",
       "      <td>0</td>\n",
       "    </tr>\n",
       "    <tr>\n",
       "      <th>1</th>\n",
       "      <td>1</td>\n",
       "      <td>1</td>\n",
       "    </tr>\n",
       "    <tr>\n",
       "      <th>2</th>\n",
       "      <td>1</td>\n",
       "      <td>1</td>\n",
       "    </tr>\n",
       "    <tr>\n",
       "      <th>3</th>\n",
       "      <td>0</td>\n",
       "      <td>0</td>\n",
       "    </tr>\n",
       "    <tr>\n",
       "      <th>4</th>\n",
       "      <td>1</td>\n",
       "      <td>1</td>\n",
       "    </tr>\n",
       "    <tr>\n",
       "      <th>...</th>\n",
       "      <td>...</td>\n",
       "      <td>...</td>\n",
       "    </tr>\n",
       "    <tr>\n",
       "      <th>195</th>\n",
       "      <td>0</td>\n",
       "      <td>0</td>\n",
       "    </tr>\n",
       "    <tr>\n",
       "      <th>196</th>\n",
       "      <td>0</td>\n",
       "      <td>0</td>\n",
       "    </tr>\n",
       "    <tr>\n",
       "      <th>197</th>\n",
       "      <td>1</td>\n",
       "      <td>0</td>\n",
       "    </tr>\n",
       "    <tr>\n",
       "      <th>198</th>\n",
       "      <td>0</td>\n",
       "      <td>1</td>\n",
       "    </tr>\n",
       "    <tr>\n",
       "      <th>199</th>\n",
       "      <td>0</td>\n",
       "      <td>0</td>\n",
       "    </tr>\n",
       "  </tbody>\n",
       "</table>\n",
       "<p>200 rows × 2 columns</p>\n",
       "</div>"
      ],
      "text/plain": [
       "     true  pred\n",
       "0       1     0\n",
       "1       1     1\n",
       "2       1     1\n",
       "3       0     0\n",
       "4       1     1\n",
       "..    ...   ...\n",
       "195     0     0\n",
       "196     0     0\n",
       "197     1     0\n",
       "198     0     1\n",
       "199     0     0\n",
       "\n",
       "[200 rows x 2 columns]"
      ]
     },
     "execution_count": 5,
     "metadata": {},
     "output_type": "execute_result"
    }
   ],
   "source": [
    "data_class"
   ]
  },
  {
   "cell_type": "code",
   "execution_count": 10,
   "metadata": {},
   "outputs": [],
   "source": [
    "TP, FP, FN, TN = 0,0,0,0\n",
    "\n",
    "for true, pred in zip(data_class['true'], data_class['pred']):\n",
    "    \n",
    "    if true == 1 and pred == 1:\n",
    "        \n",
    "        TP += 1\n",
    "        \n",
    "    if true == 0 and pred == 0:\n",
    "        \n",
    "        TN += 1\n",
    "    \n",
    "    if true == 1 and pred == 0:\n",
    "        \n",
    "        FN += 1\n",
    "        \n",
    "    if true == 0 and pred == 1:\n",
    "        \n",
    "        FP += 1"
   ]
  },
  {
   "cell_type": "code",
   "execution_count": 11,
   "metadata": {},
   "outputs": [],
   "source": [
    "file = open('answer_4_1.txt', 'w')\n",
    "file.write('{} {} {} {}'.format(TP, FP, FN, TN))\n",
    "file.close()"
   ]
  },
  {
   "cell_type": "code",
   "execution_count": 12,
   "metadata": {},
   "outputs": [],
   "source": [
    "accuracy = metrics.accuracy_score(data_class['true'], data_class['pred'])\n",
    "precision = metrics.precision_score(data_class['true'], data_class['pred'])\n",
    "recall = metrics.recall_score(data_class['true'], data_class['pred'])\n",
    "f1 = metrics.f1_score(data_class['true'], data_class['pred'])\n",
    "file = open('answer_4_2.txt', 'w')\n",
    "file.write('{} {} {} {}'.format(accuracy, precision, recall, f1))\n",
    "file.close()"
   ]
  },
  {
   "cell_type": "code",
   "execution_count": 14,
   "metadata": {},
   "outputs": [],
   "source": [
    "data_score = pd.read_csv('scores.csv', engine = 'python')"
   ]
  },
  {
   "cell_type": "code",
   "execution_count": 15,
   "metadata": {},
   "outputs": [
    {
     "data": {
      "text/html": [
       "<div>\n",
       "<style scoped>\n",
       "    .dataframe tbody tr th:only-of-type {\n",
       "        vertical-align: middle;\n",
       "    }\n",
       "\n",
       "    .dataframe tbody tr th {\n",
       "        vertical-align: top;\n",
       "    }\n",
       "\n",
       "    .dataframe thead th {\n",
       "        text-align: right;\n",
       "    }\n",
       "</style>\n",
       "<table border=\"1\" class=\"dataframe\">\n",
       "  <thead>\n",
       "    <tr style=\"text-align: right;\">\n",
       "      <th></th>\n",
       "      <th>true</th>\n",
       "      <th>score_logreg</th>\n",
       "      <th>score_svm</th>\n",
       "      <th>score_knn</th>\n",
       "      <th>score_tree</th>\n",
       "    </tr>\n",
       "  </thead>\n",
       "  <tbody>\n",
       "    <tr>\n",
       "      <th>0</th>\n",
       "      <td>0</td>\n",
       "      <td>0.683832</td>\n",
       "      <td>0.145976</td>\n",
       "      <td>0.787063</td>\n",
       "      <td>0.500000</td>\n",
       "    </tr>\n",
       "    <tr>\n",
       "      <th>1</th>\n",
       "      <td>1</td>\n",
       "      <td>0.801966</td>\n",
       "      <td>0.239511</td>\n",
       "      <td>1.000000</td>\n",
       "      <td>0.833333</td>\n",
       "    </tr>\n",
       "    <tr>\n",
       "      <th>2</th>\n",
       "      <td>0</td>\n",
       "      <td>0.382315</td>\n",
       "      <td>-0.245701</td>\n",
       "      <td>0.000000</td>\n",
       "      <td>0.000000</td>\n",
       "    </tr>\n",
       "    <tr>\n",
       "      <th>3</th>\n",
       "      <td>1</td>\n",
       "      <td>0.506797</td>\n",
       "      <td>-0.137058</td>\n",
       "      <td>0.000000</td>\n",
       "      <td>0.105263</td>\n",
       "    </tr>\n",
       "    <tr>\n",
       "      <th>4</th>\n",
       "      <td>1</td>\n",
       "      <td>0.488781</td>\n",
       "      <td>-0.154148</td>\n",
       "      <td>0.000000</td>\n",
       "      <td>0.105263</td>\n",
       "    </tr>\n",
       "    <tr>\n",
       "      <th>...</th>\n",
       "      <td>...</td>\n",
       "      <td>...</td>\n",
       "      <td>...</td>\n",
       "      <td>...</td>\n",
       "      <td>...</td>\n",
       "    </tr>\n",
       "    <tr>\n",
       "      <th>195</th>\n",
       "      <td>0</td>\n",
       "      <td>0.573801</td>\n",
       "      <td>-0.088203</td>\n",
       "      <td>0.284192</td>\n",
       "      <td>0.400000</td>\n",
       "    </tr>\n",
       "    <tr>\n",
       "      <th>196</th>\n",
       "      <td>0</td>\n",
       "      <td>0.624422</td>\n",
       "      <td>-0.012315</td>\n",
       "      <td>0.205437</td>\n",
       "      <td>0.400000</td>\n",
       "    </tr>\n",
       "    <tr>\n",
       "      <th>197</th>\n",
       "      <td>1</td>\n",
       "      <td>0.425538</td>\n",
       "      <td>-0.135673</td>\n",
       "      <td>0.382351</td>\n",
       "      <td>0.700000</td>\n",
       "    </tr>\n",
       "    <tr>\n",
       "      <th>198</th>\n",
       "      <td>0</td>\n",
       "      <td>0.905270</td>\n",
       "      <td>0.583806</td>\n",
       "      <td>1.000000</td>\n",
       "      <td>1.000000</td>\n",
       "    </tr>\n",
       "    <tr>\n",
       "      <th>199</th>\n",
       "      <td>0</td>\n",
       "      <td>0.275594</td>\n",
       "      <td>-0.422160</td>\n",
       "      <td>0.743567</td>\n",
       "      <td>0.642857</td>\n",
       "    </tr>\n",
       "  </tbody>\n",
       "</table>\n",
       "<p>200 rows × 5 columns</p>\n",
       "</div>"
      ],
      "text/plain": [
       "     true  score_logreg  score_svm  score_knn  score_tree\n",
       "0       0      0.683832   0.145976   0.787063    0.500000\n",
       "1       1      0.801966   0.239511   1.000000    0.833333\n",
       "2       0      0.382315  -0.245701   0.000000    0.000000\n",
       "3       1      0.506797  -0.137058   0.000000    0.105263\n",
       "4       1      0.488781  -0.154148   0.000000    0.105263\n",
       "..    ...           ...        ...        ...         ...\n",
       "195     0      0.573801  -0.088203   0.284192    0.400000\n",
       "196     0      0.624422  -0.012315   0.205437    0.400000\n",
       "197     1      0.425538  -0.135673   0.382351    0.700000\n",
       "198     0      0.905270   0.583806   1.000000    1.000000\n",
       "199     0      0.275594  -0.422160   0.743567    0.642857\n",
       "\n",
       "[200 rows x 5 columns]"
      ]
     },
     "execution_count": 15,
     "metadata": {},
     "output_type": "execute_result"
    }
   ],
   "source": [
    "data_score"
   ]
  },
  {
   "cell_type": "code",
   "execution_count": 16,
   "metadata": {},
   "outputs": [],
   "source": [
    "roc1 = metrics.roc_auc_score(data_score['true'], data_score['score_logreg'])\n",
    "roc2 = metrics.roc_auc_score(data_score['true'], data_score['score_svm'])\n",
    "roc3 = metrics.roc_auc_score(data_score['true'], data_score['score_knn'])\n",
    "roc4 = metrics.roc_auc_score(data_score['true'], data_score['score_tree'])"
   ]
  },
  {
   "cell_type": "code",
   "execution_count": 33,
   "metadata": {},
   "outputs": [],
   "source": [
    "file = open('answer_4_3.txt', 'w')\n",
    "file.write('score_logreg')\n",
    "file.close()"
   ]
  },
  {
   "cell_type": "code",
   "execution_count": 34,
   "metadata": {},
   "outputs": [],
   "source": [
    "pr1, rec1, thr1 = metrics.precision_recall_curve(data_score['true'], data_score['score_logreg'])\n",
    "pr2, rec2, thr2 = metrics.precision_recall_curve(data_score['true'], data_score['score_svm'])\n",
    "pr3, rec3, thr3 = metrics.precision_recall_curve(data_score['true'], data_score['score_knn'])\n",
    "pr4, rec4, thr4 = metrics.precision_recall_curve(data_score['true'], data_score['score_tree'])"
   ]
  },
  {
   "cell_type": "code",
   "execution_count": 42,
   "metadata": {},
   "outputs": [],
   "source": [
    "pr11 = np.max(pr1[rec1 >= 0.7])\n",
    "pr22 = np.max(pr2[rec2 >= 0.7])\n",
    "pr33 = np.max(pr3[rec3 >= 0.7])\n",
    "pr44 = np.max(pr4[rec4 >= 0.7])"
   ]
  },
  {
   "cell_type": "code",
   "execution_count": 49,
   "metadata": {},
   "outputs": [],
   "source": [
    "file = open('answer_4_4.txt', 'w')\n",
    "file.write('score_tree')\n",
    "file.close()"
   ]
  },
  {
   "cell_type": "code",
   "execution_count": 44,
   "metadata": {},
   "outputs": [
    {
     "data": {
      "text/plain": [
       "(0.6302521008403361,\n",
       " 0.6228070175438597,\n",
       " 0.6065573770491803,\n",
       " 0.6517857142857143)"
      ]
     },
     "execution_count": 44,
     "metadata": {},
     "output_type": "execute_result"
    }
   ],
   "source": [
    "pr11, pr22, pr33, pr44"
   ]
  },
  {
   "cell_type": "code",
   "execution_count": 37,
   "metadata": {},
   "outputs": [
    {
     "data": {
      "text/plain": [
       "array([0.49746193, 0.49489796, 0.49230769, 0.49484536, 0.49740933,\n",
       "       0.49479167, 0.4973822 , 0.49473684, 0.4973545 , 0.5       ,\n",
       "       0.5026738 , 0.5       , 0.4972973 , 0.5       , 0.50273224,\n",
       "       0.50549451, 0.50828729, 0.51111111, 0.51396648, 0.51685393,\n",
       "       0.51977401, 0.52272727, 0.52571429, 0.52873563, 0.53179191,\n",
       "       0.53488372, 0.5380117 , 0.53529412, 0.53846154, 0.54166667,\n",
       "       0.54491018, 0.54819277, 0.55151515, 0.54878049, 0.55214724,\n",
       "       0.54938272, 0.55279503, 0.55625   , 0.55974843, 0.55696203,\n",
       "       0.56050955, 0.56410256, 0.56129032, 0.56493506, 0.56862745,\n",
       "       0.56578947, 0.56953642, 0.56666667, 0.5704698 , 0.57432432,\n",
       "       0.57142857, 0.57534247, 0.57241379, 0.57638889, 0.58041958,\n",
       "       0.58450704, 0.58156028, 0.58571429, 0.58992806, 0.58695652,\n",
       "       0.59124088, 0.59558824, 0.6       , 0.59701493, 0.60150376,\n",
       "       0.60606061, 0.60305344, 0.6       , 0.60465116, 0.609375  ,\n",
       "       0.61417323, 0.61111111, 0.616     , 0.62096774, 0.62601626,\n",
       "       0.62295082, 0.61983471, 0.625     , 0.6302521 , 0.62711864,\n",
       "       0.62393162, 0.62068966, 0.62608696, 0.62280702, 0.61946903,\n",
       "       0.61607143, 0.61261261, 0.60909091, 0.6146789 , 0.62037037,\n",
       "       0.61682243, 0.62264151, 0.62857143, 0.625     , 0.63106796,\n",
       "       0.62745098, 0.62376238, 0.62      , 0.62626263, 0.63265306,\n",
       "       0.62886598, 0.63541667, 0.63157895, 0.63829787, 0.64516129,\n",
       "       0.65217391, 0.64835165, 0.65555556, 0.65168539, 0.64772727,\n",
       "       0.65517241, 0.6627907 , 0.67058824, 0.67857143, 0.68674699,\n",
       "       0.69512195, 0.7037037 , 0.7       , 0.70886076, 0.71794872,\n",
       "       0.72727273, 0.72368421, 0.72      , 0.72972973, 0.7260274 ,\n",
       "       0.72222222, 0.71830986, 0.72857143, 0.72463768, 0.73529412,\n",
       "       0.73134328, 0.72727273, 0.73846154, 0.734375  , 0.74603175,\n",
       "       0.75806452, 0.75409836, 0.75      , 0.76271186, 0.75862069,\n",
       "       0.75438596, 0.75      , 0.74545455, 0.74074074, 0.75471698,\n",
       "       0.75      , 0.74509804, 0.76      , 0.7755102 , 0.77083333,\n",
       "       0.76595745, 0.76086957, 0.77777778, 0.79545455, 0.81395349,\n",
       "       0.83333333, 0.85365854, 0.875     , 0.87179487, 0.86842105,\n",
       "       0.86486486, 0.86111111, 0.85714286, 0.85294118, 0.84848485,\n",
       "       0.84375   , 0.83870968, 0.83333333, 0.82758621, 0.82142857,\n",
       "       0.81481481, 0.80769231, 0.8       , 0.79166667, 0.7826087 ,\n",
       "       0.77272727, 0.76190476, 0.75      , 0.78947368, 0.77777778,\n",
       "       0.76470588, 0.75      , 0.8       , 0.78571429, 0.76923077,\n",
       "       0.83333333, 0.81818182, 0.8       , 0.77777778, 0.75      ,\n",
       "       0.71428571, 0.66666667, 0.6       , 0.75      , 1.        ,\n",
       "       1.        , 1.        , 1.        ])"
      ]
     },
     "execution_count": 37,
     "metadata": {},
     "output_type": "execute_result"
    }
   ],
   "source": [
    "pr1"
   ]
  },
  {
   "cell_type": "code",
   "execution_count": 46,
   "metadata": {},
   "outputs": [
    {
     "data": {
      "text/plain": [
       "86"
      ]
     },
     "execution_count": 46,
     "metadata": {},
     "output_type": "execute_result"
    }
   ],
   "source": [
    "len(pr1[rec1 >= 0.7])"
   ]
  },
  {
   "cell_type": "code",
   "execution_count": 48,
   "metadata": {},
   "outputs": [
    {
     "data": {
      "text/plain": [
       "86"
      ]
     },
     "execution_count": 48,
     "metadata": {},
     "output_type": "execute_result"
    }
   ],
   "source": [
    "len(rec1[rec1 >= 0.7])"
   ]
  },
  {
   "cell_type": "code",
   "execution_count": null,
   "metadata": {},
   "outputs": [],
   "source": []
  }
 ],
 "metadata": {
  "kernelspec": {
   "display_name": "Python 3",
   "language": "python",
   "name": "python3"
  },
  "language_info": {
   "codemirror_mode": {
    "name": "ipython",
    "version": 3
   },
   "file_extension": ".py",
   "mimetype": "text/x-python",
   "name": "python",
   "nbconvert_exporter": "python",
   "pygments_lexer": "ipython3",
   "version": "3.7.5"
  }
 },
 "nbformat": 4,
 "nbformat_minor": 2
}
